{
 "cells": [
  {
   "cell_type": "code",
   "execution_count": 22,
   "id": "59f8c67b",
   "metadata": {},
   "outputs": [],
   "source": [
    "import numpy as ny\n",
    "import pandas as pd\n",
    "import matplotlib as mt\n",
    "from sklearn.linear_model import LinearRegression \n"
   ]
  },
  {
   "cell_type": "code",
   "execution_count": null,
   "id": "fb8638a5",
   "metadata": {},
   "outputs": [
    {
     "name": "stdout",
     "output_type": "stream",
     "text": [
      "<class 'pandas.core.frame.DataFrame'>\n",
      "RangeIndex: 30 entries, 0 to 29\n",
      "Data columns (total 2 columns):\n",
      " #   Column      Non-Null Count  Dtype  \n",
      "---  ------      --------------  -----  \n",
      " 0   Celsius     30 non-null     int64  \n",
      " 1   Fahrenheit  30 non-null     float64\n",
      "dtypes: float64(1), int64(1)\n",
      "memory usage: 612.0 bytes\n"
     ]
    }
   ],
   "source": [
    "datos = pd.read_csv(r\"C:\\Users\\Usuario\\Documents\\Practica_python\\AI_agent\\celsius.csv\", sep =\";\") # Leemos el archivo csv sobre la temperatura en celsius y su equivalenten en fahrenheit\n",
    "datos.info() # de esta forma miramos la información del DataFrame (DF) de forma general"
   ]
  },
  {
   "cell_type": "code",
   "execution_count": null,
   "id": "c7c72755",
   "metadata": {},
   "outputs": [
    {
     "data": {
      "text/html": [
       "<div>\n",
       "<style scoped>\n",
       "    .dataframe tbody tr th:only-of-type {\n",
       "        vertical-align: middle;\n",
       "    }\n",
       "\n",
       "    .dataframe tbody tr th {\n",
       "        vertical-align: top;\n",
       "    }\n",
       "\n",
       "    .dataframe thead th {\n",
       "        text-align: right;\n",
       "    }\n",
       "</style>\n",
       "<table border=\"1\" class=\"dataframe\">\n",
       "  <thead>\n",
       "    <tr style=\"text-align: right;\">\n",
       "      <th></th>\n",
       "      <th>Celsius</th>\n",
       "      <th>Fahrenheit</th>\n",
       "    </tr>\n",
       "  </thead>\n",
       "  <tbody>\n",
       "    <tr>\n",
       "      <th>0</th>\n",
       "      <td>-20</td>\n",
       "      <td>-4.0</td>\n",
       "    </tr>\n",
       "    <tr>\n",
       "      <th>1</th>\n",
       "      <td>-15</td>\n",
       "      <td>5.0</td>\n",
       "    </tr>\n",
       "    <tr>\n",
       "      <th>2</th>\n",
       "      <td>-10</td>\n",
       "      <td>14.0</td>\n",
       "    </tr>\n",
       "    <tr>\n",
       "      <th>3</th>\n",
       "      <td>-5</td>\n",
       "      <td>23.0</td>\n",
       "    </tr>\n",
       "    <tr>\n",
       "      <th>4</th>\n",
       "      <td>0</td>\n",
       "      <td>32.0</td>\n",
       "    </tr>\n",
       "    <tr>\n",
       "      <th>5</th>\n",
       "      <td>1</td>\n",
       "      <td>33.8</td>\n",
       "    </tr>\n",
       "    <tr>\n",
       "      <th>6</th>\n",
       "      <td>2</td>\n",
       "      <td>35.6</td>\n",
       "    </tr>\n",
       "    <tr>\n",
       "      <th>7</th>\n",
       "      <td>5</td>\n",
       "      <td>41.0</td>\n",
       "    </tr>\n",
       "    <tr>\n",
       "      <th>8</th>\n",
       "      <td>8</td>\n",
       "      <td>46.4</td>\n",
       "    </tr>\n",
       "    <tr>\n",
       "      <th>9</th>\n",
       "      <td>10</td>\n",
       "      <td>50.0</td>\n",
       "    </tr>\n",
       "  </tbody>\n",
       "</table>\n",
       "</div>"
      ],
      "text/plain": [
       "   Celsius  Fahrenheit\n",
       "0      -20        -4.0\n",
       "1      -15         5.0\n",
       "2      -10        14.0\n",
       "3       -5        23.0\n",
       "4        0        32.0\n",
       "5        1        33.8\n",
       "6        2        35.6\n",
       "7        5        41.0\n",
       "8        8        46.4\n",
       "9       10        50.0"
      ]
     },
     "execution_count": 8,
     "metadata": {},
     "output_type": "execute_result"
    }
   ],
   "source": [
    "datos.head(10) # Con esto se mira la informacioón de los 5 primeros datos de DF, y se puede agregar un paramereo para mostrar cuantos datos se prefiere, o por defecto si no se pone nada salen 5"
   ]
  },
  {
   "cell_type": "code",
   "execution_count": null,
   "id": "25729fe0",
   "metadata": {},
   "outputs": [
    {
     "data": {
      "text/plain": [
       "<Axes: xlabel='Celsius', ylabel='Fahrenheit'>"
      ]
     },
     "execution_count": 10,
     "metadata": {},
     "output_type": "execute_result"
    },
    {
     "data": {
      "image/png": "[encoded data removed]",
      "text/plain": [
       "<Figure size 640x480 with 1 Axes>"
      ]
     },
     "metadata": {},
     "output_type": "display_data"
    }
   ],
   "source": [
    "import seaborn as sb\n",
    "sb.scatterplot(x=\"Celsius\" , #Esta linea de codigo sirve para poder mostrar los datos del DataFrame (DF) de datos\n",
    "               y = \"Fahrenheit\", #En esta se pasan los parametros de x que es lavor reprentado en el eje de las x y tiene que esta acorde a alguna columnda del DF, al igual que el parametro y\n",
    "               data= datos,# el parametro data del cual se toma la información del DF  \n",
    "              hue =\"Fahrenheit\", # ete parametro indica qwue el color de los puntos varia en base del la variable escrita en este caso Fahrenheit\n",
    "              palette = \"coolwarm\") # de esta forma definimos una paleta de colores ya definida "
   ]
  },
  {
   "cell_type": "code",
   "execution_count": null,
   "id": "c37fa536",
   "metadata": {},
   "outputs": [],
   "source": [
    "#Caracteristicas (X) etiquetas  o resultados(y)\n",
    "X = datos[\"Celsius\"]\n",
    "y = datos[\"Fahrenheit\"]\n",
    "\n",
    "X_procesada = X.values.reshape(30,1) # de esta forma estamos separando los valores del celsius en diferentes corchetes \n",
    "y_procesada = y.values.reshape(30,1) # de esta froma estamos separando los valores del fahrenheit en diferentes corchetes"
   ]
  },
  {
   "cell_type": "code",
   "execution_count": 32,
   "id": "4df8b258",
   "metadata": {},
   "outputs": [
    {
     "data": {
      "text/plain": [
       "array([[  32.],\n",
       "       [9887.]])"
      ]
     },
     "execution_count": 32,
     "metadata": {},
     "output_type": "execute_result"
    }
   ],
   "source": [
    "modelo = LinearRegression()\n",
    "#aqui entrenamos el modelo\n",
    "modelo.fit(X_procesada, y_procesada)\n",
    "#Despues de entrenar el modelo nos damos cuenta que es capaz de predecir los datos sin problemas\n",
    "modelo.predict([[0], [5475]])"
   ]
  },
  {
   "cell_type": "code",
   "execution_count": null,
   "id": "fbeb95a9",
   "metadata": {},
   "outputs": [
    {
     "data": {
      "text/plain": [
       "1.0"
      ]
     },
     "execution_count": 26,
     "metadata": {},
     "output_type": "execute_result"
    }
   ],
   "source": [
    "#Esta liena de codigo nos califica que tan bien esta entrenado el modelo calficado de 1 hasta 0 donde 1 es lo mejor, auqnue este al ser un ejeemplo tan simple es normal que nos de uno en un caso real esto no sucede\n",
    "modelo.score(X_procesada, y_procesada)"
   ]
  }
 ],
 "metadata": {
  "kernelspec": {
   "display_name": "Python 3",
   "language": "python",
   "name": "python3"
  },
  "language_info": {
   "codemirror_mode": {
    "name": "ipython",
    "version": 3
   },
   "file_extension": ".py",
   "mimetype": "text/x-python",
   "name": "python",
   "nbconvert_exporter": "python",
   "pygments_lexer": "ipython3",
   "version": "3.13.3"
  }
 },
 "nbformat": 4,
 "nbformat_minor": 5
}
