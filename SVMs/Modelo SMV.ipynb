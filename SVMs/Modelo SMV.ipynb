{
 "cells": [
  {
   "cell_type": "code",
   "execution_count": 30,
   "id": "b35eff9e",
   "metadata": {},
   "outputs": [],
   "source": [
    "from sklearn import datasets\n",
    "from sklearn.model_selection import train_test_split\n",
    "from sklearn import svm\n",
    "from sklearn import metrics\n",
    "import pandas as pd\n",
    "import seaborn as sb"
   ]
  },
  {
   "cell_type": "markdown",
   "id": "a66d84f3",
   "metadata": {},
   "source": [
    "Tomamos los datos del dataset estandar de sklearn"
   ]
  },
  {
   "cell_type": "code",
   "execution_count": null,
   "id": "48a24e81",
   "metadata": {},
   "outputs": [
    {
     "data": {
      "text/plain": [
       "mean radius                0\n",
       "mean texture               0\n",
       "mean perimeter             0\n",
       "mean area                  0\n",
       "mean smoothness            0\n",
       "mean compactness           0\n",
       "mean concavity             0\n",
       "mean concave points        0\n",
       "mean symmetry              0\n",
       "mean fractal dimension     0\n",
       "radius error               0\n",
       "texture error              0\n",
       "perimeter error            0\n",
       "area error                 0\n",
       "smoothness error           0\n",
       "compactness error          0\n",
       "concavity error            0\n",
       "concave points error       0\n",
       "symmetry error             0\n",
       "fractal dimension error    0\n",
       "worst radius               0\n",
       "worst texture              0\n",
       "worst perimeter            0\n",
       "worst area                 0\n",
       "worst smoothness           0\n",
       "worst compactness          0\n",
       "worst concavity            0\n",
       "worst concave points       0\n",
       "worst symmetry             0\n",
       "worst fractal dimension    0\n",
       "target                     0\n",
       "dtype: int64"
      ]
     },
     "execution_count": 15,
     "metadata": {},
     "output_type": "execute_result"
    }
   ],
   "source": [
    "dt = datasets.load_breast_cancer(as_frame =True) # as_frame = True, indica \n",
    "dt.frame.isna().sum()"
   ]
  },
  {
   "cell_type": "markdown",
   "id": "6e5dc617",
   "metadata": {},
   "source": [
    "Tomamos los datos que son las caracteristicas y la etiqueta, en este caso al ser una matriz de sklearn, directamente podemos obtenerlo con .data y . target, y luego dividimos los datos de entrenamiento y  de prueba"
   ]
  },
  {
   "cell_type": "code",
   "execution_count": 20,
   "id": "6b99f355",
   "metadata": {},
   "outputs": [],
   "source": [
    "carat = dt.data\n",
    "eti = dt.target\n",
    "\n",
    "carat_ent, carat_pru, eti_ent, eti_pru = train_test_split(carat, eti, test_size= 0.5)"
   ]
  },
  {
   "cell_type": "markdown",
   "id": "01bdfd82",
   "metadata": {},
   "source": [
    "Aqui creamos la maquia de vector de soporte con la que nos damos cuenta de que obtenemos resultados muy similares"
   ]
  },
  {
   "cell_type": "code",
   "execution_count": 38,
   "id": "159f1645",
   "metadata": {},
   "outputs": [
    {
     "data": {
      "text/html": [
       "<div>\n",
       "<style scoped>\n",
       "    .dataframe tbody tr th:only-of-type {\n",
       "        vertical-align: middle;\n",
       "    }\n",
       "\n",
       "    .dataframe tbody tr th {\n",
       "        vertical-align: top;\n",
       "    }\n",
       "\n",
       "    .dataframe thead th {\n",
       "        text-align: right;\n",
       "    }\n",
       "</style>\n",
       "<table border=\"1\" class=\"dataframe\">\n",
       "  <thead>\n",
       "    <tr style=\"text-align: right;\">\n",
       "      <th></th>\n",
       "      <th>Prediccion</th>\n",
       "      <th>Valor real</th>\n",
       "    </tr>\n",
       "  </thead>\n",
       "  <tbody>\n",
       "    <tr>\n",
       "      <th>335</th>\n",
       "      <td>0</td>\n",
       "      <td>0</td>\n",
       "    </tr>\n",
       "    <tr>\n",
       "      <th>429</th>\n",
       "      <td>1</td>\n",
       "      <td>1</td>\n",
       "    </tr>\n",
       "    <tr>\n",
       "      <th>119</th>\n",
       "      <td>0</td>\n",
       "      <td>0</td>\n",
       "    </tr>\n",
       "    <tr>\n",
       "      <th>368</th>\n",
       "      <td>0</td>\n",
       "      <td>0</td>\n",
       "    </tr>\n",
       "    <tr>\n",
       "      <th>461</th>\n",
       "      <td>0</td>\n",
       "      <td>0</td>\n",
       "    </tr>\n",
       "    <tr>\n",
       "      <th>...</th>\n",
       "      <td>...</td>\n",
       "      <td>...</td>\n",
       "    </tr>\n",
       "    <tr>\n",
       "      <th>504</th>\n",
       "      <td>1</td>\n",
       "      <td>1</td>\n",
       "    </tr>\n",
       "    <tr>\n",
       "      <th>350</th>\n",
       "      <td>1</td>\n",
       "      <td>1</td>\n",
       "    </tr>\n",
       "    <tr>\n",
       "      <th>524</th>\n",
       "      <td>1</td>\n",
       "      <td>1</td>\n",
       "    </tr>\n",
       "    <tr>\n",
       "      <th>482</th>\n",
       "      <td>1</td>\n",
       "      <td>1</td>\n",
       "    </tr>\n",
       "    <tr>\n",
       "      <th>301</th>\n",
       "      <td>1</td>\n",
       "      <td>1</td>\n",
       "    </tr>\n",
       "  </tbody>\n",
       "</table>\n",
       "<p>285 rows × 2 columns</p>\n",
       "</div>"
      ],
      "text/plain": [
       "     Prediccion  Valor real\n",
       "335           0           0\n",
       "429           1           1\n",
       "119           0           0\n",
       "368           0           0\n",
       "461           0           0\n",
       "..          ...         ...\n",
       "504           1           1\n",
       "350           1           1\n",
       "524           1           1\n",
       "482           1           1\n",
       "301           1           1\n",
       "\n",
       "[285 rows x 2 columns]"
      ]
     },
     "execution_count": 38,
     "metadata": {},
     "output_type": "execute_result"
    }
   ],
   "source": [
    "model = svm.SVC()\n",
    "model.fit(carat_ent, eti_ent)\n",
    "predict = model.predict(carat_pru)\n",
    "prediccion = pd.DataFrame({\"Prediccion\":predict, \"Valor real\": eti_pru})\n",
    "prediccion"
   ]
  },
  {
   "cell_type": "markdown",
   "id": "d3fda57b",
   "metadata": {},
   "source": [
    "Medimos las metricas del modelo por defecto"
   ]
  },
  {
   "cell_type": "code",
   "execution_count": 27,
   "id": "9032dee2",
   "metadata": {},
   "outputs": [
    {
     "name": "stdout",
     "output_type": "stream",
     "text": [
      "La exactitud del modelo es de un 94.73684210526315%\n",
      "La precision del modelo es de un 93.65079365079364%\n"
     ]
    }
   ],
   "source": [
    "print(f\"La exactitud del modelo es de un {metrics.accuracy_score(eti_pru, predict)*100}%\")\n",
    "print(f\"La precision del modelo es de un {metrics.precision_score(eti_pru, predict)*100}%\")\n"
   ]
  },
  {
   "cell_type": "markdown",
   "id": "b94298f9",
   "metadata": {},
   "source": [
    "Para poder llegar a un modelo diferente dentro del modelo de maquina de vectores, por medio de los parametros de los kernels y los gammas y vamos a revisar el mejor tipo de modelo."
   ]
  },
  {
   "cell_type": "code",
   "execution_count": null,
   "id": "5410df00",
   "metadata": {},
   "outputs": [
    {
     "name": "stdout",
     "output_type": "stream",
     "text": [
      "La exactitud del modelo con el kernel: linear y el gamma: 1 es de un 95.78947368421052%\n",
      "La precision del modelo con el kernel: linear y el gamma: 1 es de un 96.15384615384616%\n",
      "\n",
      "\n",
      "La exactitud del modelo con el kernel: linear y el gamma: 0.01 es de un 95.78947368421052%\n",
      "La precision del modelo con el kernel: linear y el gamma: 0.01 es de un 96.15384615384616%\n",
      "\n",
      "\n",
      "La exactitud del modelo con el kernel: linear y el gamma: 0.001 es de un 95.78947368421052%\n",
      "La precision del modelo con el kernel: linear y el gamma: 0.001 es de un 96.15384615384616%\n",
      "\n",
      "\n",
      "La exactitud del modelo con el kernel: linear y el gamma: 0.0001 es de un 95.78947368421052%\n",
      "La precision del modelo con el kernel: linear y el gamma: 0.0001 es de un 96.15384615384616%\n",
      "\n",
      "\n",
      "La exactitud del modelo con el kernel: linear y el gamma: 1e-05 es de un 95.78947368421052%\n",
      "La precision del modelo con el kernel: linear y el gamma: 1e-05 es de un 96.15384615384616%\n",
      "\n",
      "\n",
      "La exactitud del modelo con el kernel: rbf y el gamma: 1 es de un 63.1578947368421%\n",
      "La precision del modelo con el kernel: rbf y el gamma: 1 es de un 63.1578947368421%\n",
      "\n",
      "\n",
      "La exactitud del modelo con el kernel: rbf y el gamma: 0.01 es de un 63.1578947368421%\n",
      "La precision del modelo con el kernel: rbf y el gamma: 0.01 es de un 63.1578947368421%\n",
      "\n",
      "\n",
      "La exactitud del modelo con el kernel: rbf y el gamma: 0.001 es de un 92.98245614035088%\n",
      "La precision del modelo con el kernel: rbf y el gamma: 0.001 es de un 97.05882352941177%\n",
      "\n",
      "\n",
      "La exactitud del modelo con el kernel: rbf y el gamma: 0.0001 es de un 96.14035087719299%\n",
      "La precision del modelo con el kernel: rbf y el gamma: 0.0001 es de un 97.20670391061452%\n",
      "\n",
      "\n",
      "La exactitud del modelo con el kernel: rbf y el gamma: 1e-05 es de un 94.38596491228071%\n",
      "La precision del modelo con el kernel: rbf y el gamma: 1e-05 es de un 95.05494505494505%\n",
      "\n",
      "\n",
      "La exactitud del modelo con el kernel: sigmoid y el gamma: 1 es de un 63.1578947368421%\n",
      "La precision del modelo con el kernel: sigmoid y el gamma: 1 es de un 63.1578947368421%\n",
      "\n",
      "\n",
      "La exactitud del modelo con el kernel: sigmoid y el gamma: 0.01 es de un 63.1578947368421%\n",
      "La precision del modelo con el kernel: sigmoid y el gamma: 0.01 es de un 63.1578947368421%\n",
      "\n",
      "\n",
      "La exactitud del modelo con el kernel: sigmoid y el gamma: 0.001 es de un 63.1578947368421%\n",
      "La precision del modelo con el kernel: sigmoid y el gamma: 0.001 es de un 63.1578947368421%\n",
      "\n",
      "\n",
      "La exactitud del modelo con el kernel: sigmoid y el gamma: 0.0001 es de un 63.1578947368421%\n",
      "La precision del modelo con el kernel: sigmoid y el gamma: 0.0001 es de un 63.1578947368421%\n",
      "\n",
      "\n",
      "La exactitud del modelo con el kernel: sigmoid y el gamma: 1e-05 es de un 53.68421052631579%\n",
      "La precision del modelo con el kernel: sigmoid y el gamma: 1e-05 es de un 59.30232558139535%\n",
      "\n",
      "\n"
     ]
    }
   ],
   "source": [
    "kernels = [\"linear\", \"rbf\", \"sigmoid\"]\n",
    "gammas = [1, .01, .001, .0001, .00001]\n",
    "\n",
    "for kernel in kernels:\n",
    "    for gamma in gammas:\n",
    "        model = svm.SVC(kernel = kernel, gamma = gamma)\n",
    "        model.fit(carat_ent, eti_ent)\n",
    "\n",
    "        print(f\"La exactitud del modelo con el kernel: {kernel} y el gamma: {gamma} es de un {metrics.accuracy_score(eti_pru, predict)*100}%\")\n",
    "        print(f\"La precision del modelo con el kernel: {kernel} y el gamma: {gamma} es de un {metrics.precision_score(eti_pru, predict)*100}%\")\n",
    "        print(\"\\n\")"
   ]
  },
  {
   "cell_type": "markdown",
   "id": "e6ee3be6",
   "metadata": {},
   "source": [
    "Clasificamos el reporte segun el mejor tipo de modelo que en eset caso es linear "
   ]
  },
  {
   "cell_type": "code",
   "execution_count": 39,
   "id": "e1e11aad",
   "metadata": {},
   "outputs": [
    {
     "name": "stdout",
     "output_type": "stream",
     "text": [
      "              precision    recall  f1-score   support\n",
      "\n",
      "           0       0.97      0.89      0.93       105\n",
      "           1       0.94      0.98      0.96       180\n",
      "\n",
      "    accuracy                           0.95       285\n",
      "   macro avg       0.95      0.93      0.94       285\n",
      "weighted avg       0.95      0.95      0.95       285\n",
      "\n"
     ]
    }
   ],
   "source": [
    "print(metrics.classification_report(eti_pru, predict))"
   ]
  },
  {
   "cell_type": "code",
   "execution_count": 41,
   "id": "d1a2e9a3",
   "metadata": {},
   "outputs": [
    {
     "name": "stdout",
     "output_type": "stream",
     "text": [
      "          predcit: si  predcit: no\n",
      "real: si           93           12\n",
      "real: no            3          177\n"
     ]
    }
   ],
   "source": [
    "confusion_matrix = pd.DataFrame(metrics.confusion_matrix(eti_pru, predict), columns = [\"predcit: si\", \"predcit: no\"], index = [\"real: si\", \"real: no\"])\n",
    "print(confusion_matrix)"
   ]
  }
 ],
 "metadata": {
  "kernelspec": {
   "display_name": "Python 3",
   "language": "python",
   "name": "python3"
  },
  "language_info": {
   "codemirror_mode": {
    "name": "ipython",
    "version": 3
   },
   "file_extension": ".py",
   "mimetype": "text/x-python",
   "name": "python",
   "nbconvert_exporter": "python",
   "pygments_lexer": "ipython3",
   "version": "3.13.3"
  }
 },
 "nbformat": 4,
 "nbformat_minor": 5
}
