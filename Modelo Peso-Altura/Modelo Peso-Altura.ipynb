{
 "cells": [
  {
   "cell_type": "code",
   "execution_count": 1,
   "id": "38eb8a41",
   "metadata": {},
   "outputs": [],
   "source": [
    "import pandas as pd\n",
    "import seaborn as sb\n",
    "from sklearn.linear_model import LinearRegression"
   ]
  },
  {
   "cell_type": "code",
   "execution_count": 2,
   "id": "5ac9cb98",
   "metadata": {},
   "outputs": [
    {
     "name": "stdout",
     "output_type": "stream",
     "text": [
      "<class 'pandas.core.frame.DataFrame'>\n",
      "RangeIndex: 20 entries, 0 to 19\n",
      "Data columns (total 3 columns):\n",
      " #   Column    Non-Null Count  Dtype  \n",
      "---  ------    --------------  -----  \n",
      " 0   Nombre    20 non-null     object \n",
      " 1   Peso_kg   20 non-null     float64\n",
      " 2   Altura_m  20 non-null     float64\n",
      "dtypes: float64(2), object(1)\n",
      "memory usage: 612.0+ bytes\n"
     ]
    }
   ],
   "source": [
    "datos = pd.read_csv(\"datos_personas_peso_altura.csv\")\n",
    "datos.info()"
   ]
  },
  {
   "cell_type": "code",
   "execution_count": 3,
   "id": "edb95c7a",
   "metadata": {},
   "outputs": [
    {
     "data": {
      "text/plain": [
       "<Axes: xlabel='Altura_m', ylabel='Peso_kg'>"
      ]
     },
     "execution_count": 3,
     "metadata": {},
     "output_type": "execute_result"
    },
    {
     "data": {
      "image/png": "[encoded data removed]",
      "text/plain": [
       "<Figure size 640x480 with 1 Axes>"
      ]
     },
     "metadata": {},
     "output_type": "display_data"
    }
   ],
   "source": [
    "sb.scatterplot(y = \"Peso_kg\", x = \"Altura_m\" , data = datos)"
   ]
  },
  {
   "cell_type": "code",
   "execution_count": 4,
   "id": "a2f02081",
   "metadata": {},
   "outputs": [],
   "source": [
    "caracteristicas = datos[\"Altura_m\"]\n",
    "etiquetas = datos [\"Peso_kg\"]\n",
    "\n",
    "caracteristicas_procesado = caracteristicas.values.reshape(20, 1)\n",
    "etiquetas_procesado = etiquetas.values.reshape(20,1)"
   ]
  },
  {
   "cell_type": "code",
   "execution_count": 10,
   "id": "52c60c56",
   "metadata": {},
   "outputs": [
    {
     "name": "stdout",
     "output_type": "stream",
     "text": [
      "With your heigth of 1.57, probably yout weight is [[53.50479949]]\n",
      "0.8634600408805835\n"
     ]
    }
   ],
   "source": [
    "modelo = LinearRegression()\n",
    "\n",
    "modelo.fit(caracteristicas_procesado, etiquetas_procesado)\n",
    "\n",
    "predict = float(input(\"Give me your height: \"))\n",
    "print(f\"With your heigth of {predict}, probably yout weight is {modelo.predict([[predict]])}\")\n",
    "\n",
    "print(modelo.score(caracteristicas_procesado, etiquetas_procesado))"
   ]
  }
 ],
 "metadata": {
  "kernelspec": {
   "display_name": "Python 3",
   "language": "python",
   "name": "python3"
  },
  "language_info": {
   "codemirror_mode": {
    "name": "ipython",
    "version": 3
   },
   "file_extension": ".py",
   "mimetype": "text/x-python",
   "name": "python",
   "nbconvert_exporter": "python",
   "pygments_lexer": "ipython3",
   "version": "3.13.3"
  }
 },
 "nbformat": 4,
 "nbformat_minor": 5
}
